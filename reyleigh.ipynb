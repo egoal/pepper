{
 "cells": [
  {
   "cell_type": "markdown",
   "metadata": {},
   "source": [
    "experiments on reading **optimization algorithms on matrix manifold**\n",
    "\n",
    "$$ \\min: x^T A x $$\n",
    "\n",
    "$$ s.t.\\quad x \\in S^{n-1} $$"
   ]
  },
  {
   "cell_type": "code",
   "execution_count": 178,
   "metadata": {},
   "outputs": [],
   "source": [
    "from fn import F\n",
    "\n",
    "import numpy as np\n",
    "import scipy.linalg as la \n",
    "import matplotlib.pyplot as plt \n",
    "\n",
    "%matplotlib inline\n",
    "plt.style.use('ggplot')"
   ]
  },
  {
   "cell_type": "markdown",
   "metadata": {},
   "source": [
    "retraction: \n",
    "$$R_x(\\xi) = \\frac {x+ \\xi} {|x+ \\xi|}$$\n",
    "\n",
    "tangent projection:\n",
    "$$ P_x(\\xi) = (I-xx^T)\\xi $$"
   ]
  },
  {
   "cell_type": "markdown",
   "metadata": {},
   "source": [
    "gradient:\n",
    "\n",
    "$$ \\nabla \\bar f(x) = Ax $$\n",
    "$$ \\nabla f(x) = P_x \\nabla \\bar f(x) $$"
   ]
  },
  {
   "cell_type": "code",
   "execution_count": 179,
   "metadata": {},
   "outputs": [],
   "source": [
    "def retraction(x, ξ):\n",
    "    return (x+ ξ)/ la.norm(x+ ξ)\n",
    "\n",
    "def project_to_tangent_space(x, ξ):\n",
    "    return (np.eye(x.shape[0])- x.dot(x.T)).dot(ξ)"
   ]
  },
  {
   "cell_type": "code",
   "execution_count": 180,
   "metadata": {},
   "outputs": [],
   "source": [
    "def cost_function(A, x):\n",
    "    return x.T.dot(A).dot(x)[0, 0]\n",
    "\n",
    "def embedding_gradient(A, x):\n",
    "    return 2* A.dot(x)"
   ]
  },
  {
   "cell_type": "code",
   "execution_count": 181,
   "metadata": {},
   "outputs": [],
   "source": [
    "# line search\n",
    "def line_search(A, x0):\n",
    "    α, β, σ = 2, .5, .5 # line search parameters\n",
    "    ϵ_f, ϵ_g = 1e-4, 1e-4 # terminate check\n",
    "    \n",
    "    xs = [x0]\n",
    "    ITERATIONS, INNER_ITERATIONS = 20, 10\n",
    "    terminate = False\n",
    "    state = 'continue'\n",
    "    \n",
    "    for i in range(ITERATIONS):\n",
    "        x = xs[-1]\n",
    "        η = -project_to_tangent_space(x, embedding_gradient(A, x)) # descent\n",
    "        \n",
    "        # find armijo step size\n",
    "        state = 'diverge'\n",
    "        for m in range(INNER_ITERATIONS):\n",
    "            ratio = α* β**m\n",
    "            x_new = retraction(x, ratio* η)\n",
    "            model_decrease = -σ * ratio * η.T.dot(η)[0, 0]\n",
    "            actual_decrease = cost_function(A, x_new)- cost_function(A, x)\n",
    "            \n",
    "            if actual_decrease< model_decrease:\n",
    "                # okay\n",
    "                xs.append(x_new)\n",
    "                state = 'converge' if abs(actual_decrease)< ϵ_f else 'continue'\n",
    "                break\n",
    "        if state!='continue':\n",
    "            break\n",
    "            \n",
    "    print(f'terminate after {i} iterations, state: {state}')\n",
    "    return xs"
   ]
  },
  {
   "cell_type": "code",
   "execution_count": 182,
   "metadata": {},
   "outputs": [
    {
     "name": "stdout",
     "output_type": "stream",
     "text": [
      "terminate after 19 iterations, state: continue\n"
     ]
    },
    {
     "data": {
      "text/plain": [
       "(array([[-0.02886587, -0.69439841, -0.0969186 ,  0.71244958]]),\n",
       " (array([1.09183724e+02+0.j, 2.53328460e+01+0.j, 9.24768442e-02+0.j,\n",
       "         3.90953508e-01+0.j]),\n",
       "  array([[ 0.49673179,  0.34310395, -0.75672651, -0.2508031 ],\n",
       "         [ 0.35725595, -0.624671  ,  0.17406996, -0.67220085],\n",
       "         [ 0.64687431,  0.45637135,  0.60613754,  0.07665577],\n",
       "         [ 0.45516958, -0.53272038, -0.17222639,  0.69236386]])))"
      ]
     },
     "execution_count": 182,
     "metadata": {},
     "output_type": "execute_result"
    },
    {
     "data": {
      "image/png": "[encoded data removed]",
      "text/plain": [
       "<Figure size 864x432 with 1 Axes>"
      ]
     },
     "metadata": {},
     "output_type": "display_data"
    }
   ],
   "source": [
    "# test line search\n",
    "# A = np.c_[[1, 2, 3], [2, 2, 1], [3, 1, 3]]\n",
    "# x = np.c_[[0, 0, 1]]\n",
    "A = np.c_[[1, 2, 3, 4], [4, 2, 2, 0], [1, 3, 4, 5], [4, 3, 2, 1]] \n",
    "A = A.T.dot(A)\n",
    "x = np.c_[[0, 0, 0, 1]]\n",
    "xs = line_search(A, x)\n",
    "\n",
    "plt.figure(figsize=(12, 6))\n",
    "plt.plot(list(map(F()>>(cost_function, A)>> np.log10, xs)), '-o')\n",
    "xs[-1].T, la.eig(A)"
   ]
  },
  {
   "cell_type": "markdown",
   "metadata": {},
   "source": [
    "Newton's method\n",
    "\n",
    "connection:\n",
    "$$\\nabla_\\eta\\xi = P_x(D\\xi(x)[\\eta])$$\n",
    "\n",
    "apply to vector field: $\\xi:= grad\\ f$: \n",
    "$$\\nabla_\\eta grad\\ f(x) = P_x(D(2(I-x x^T)* Ax)[\\eta])$$\n",
    "$$ = P_x((A- (I\\cdot x^TAx- Axx^T))\\eta)$$\n",
    "$$ = 2P_x(A\\eta- \\eta\\ x^TAx)\\quad =\\quad 2P_x(AP_x\\eta- \\eta x^TAx)$$ \n",
    "\n",
    "give equations:\n",
    "$$ \\left\\{\\begin{matrix}\n",
    "P_xAx+ (P_xAP_x\\eta- \\eta x^TAx)= 0\n",
    "\\\\ x^T\\eta = 0\n",
    "\\end{matrix}\\right.\n",
    "$$"
   ]
  },
  {
   "cell_type": "code",
   "execution_count": 183,
   "metadata": {},
   "outputs": [],
   "source": [
    "# newton's method\n",
    "def newton_method(A, x0):\n",
    "    ITERATIONS = 20\n",
    "    \n",
    "    dim, xs = x0.shape[0], [x0]\n",
    "    E, b = np.zeros((dim+1, dim)), np.zeros((dim+1, 1)) # E \\eta = b\n",
    "    for i in range(ITERATIONS):\n",
    "        x = xs[-1]\n",
    "        \n",
    "        # construct iteration equations\n",
    "        P_x = np.eye(dim)- x.dot(x.T)\n",
    "        E[:dim, :] = P_x.dot(A).dot(P_x)- x.T.dot(A).dot(x)\n",
    "        E[-1, :] = x.T\n",
    "        b[:dim, :] = -P_x.dot(A).dot(x)\n",
    "        \n",
    "        # eta = la.solve(E, b)\n",
    "        eta, res, rank, s = la.lstsq(E, b) # eta may not in tangent space\n",
    "        eta = project_to_tangent_space(x, eta)\n",
    "        x_new = retraction(x, eta)\n",
    "        xs.append(x_new)\n",
    "        if abs(cost_function(A, x_new)- cost_function(A, x))< 1e-4:\n",
    "            print('converge')\n",
    "            break\n",
    "        \n",
    "    return xs"
   ]
  },
  {
   "cell_type": "code",
   "execution_count": 184,
   "metadata": {},
   "outputs": [
    {
     "name": "stdout",
     "output_type": "stream",
     "text": [
      "converge\n"
     ]
    },
    {
     "data": {
      "text/plain": [
       "(array([[ 0.75628053, -0.17526138, -0.60600012,  0.17345621]]),\n",
       " (array([1.09183724e+02+0.j, 2.53328460e+01+0.j, 9.24768442e-02+0.j,\n",
       "         3.90953508e-01+0.j]),\n",
       "  array([[ 0.49673179,  0.34310395, -0.75672651, -0.2508031 ],\n",
       "         [ 0.35725595, -0.624671  ,  0.17406996, -0.67220085],\n",
       "         [ 0.64687431,  0.45637135,  0.60613754,  0.07665577],\n",
       "         [ 0.45516958, -0.53272038, -0.17222639,  0.69236386]])))"
      ]
     },
     "execution_count": 184,
     "metadata": {},
     "output_type": "execute_result"
    },
    {
     "data": {
      "image/png": "[encoded data removed]",
      "text/plain": [
       "<Figure size 864x432 with 1 Axes>"
      ]
     },
     "metadata": {},
     "output_type": "display_data"
    }
   ],
   "source": [
    "# test newton's method \n",
    "# A = np.c_[[1, 2, 3], [2, 2, 1], [3, 1, 3]]\n",
    "# x = np.c_[[0, 0, 1]]\n",
    "A = np.c_[[1, 2, 3, 4], [4, 2, 2, 0], [1, 3, 4, 5], [4, 3, 2, 1]] \n",
    "A = A.T.dot(A)\n",
    "x = np.c_[[0, 0, 0, 1]]\n",
    "\n",
    "xs = newton_method(A, x)\n",
    "plt.figure(figsize=(12, 6))\n",
    "plt.plot(list(map(F()>>(cost_function, A)>>np.log10, xs)), '-o')\n",
    "xs[-1].T, la.eig(A)"
   ]
  },
  {
   "cell_type": "code",
   "execution_count": 185,
   "metadata": {},
   "outputs": [
    {
     "data": {
      "text/plain": [
       "array([[0.09247778]])"
      ]
     },
     "execution_count": 185,
     "metadata": {},
     "output_type": "execute_result"
    }
   ],
   "source": [
    "x = xs[-1]\n",
    "x.T.dot(A).dot(x)"
   ]
  },
  {
   "cell_type": "code",
   "execution_count": 50,
   "metadata": {},
   "outputs": [
    {
     "data": {
      "text/plain": [
       "array([[1., 0., 0.],\n",
       "       [0., 1., 0.],\n",
       "       [0., 0., 0.]])"
      ]
     },
     "execution_count": 50,
     "metadata": {},
     "output_type": "execute_result"
    }
   ],
   "source": [
    "np.eye(3)- x.dot(x.T)"
   ]
  },
  {
   "cell_type": "code",
   "execution_count": 10,
   "metadata": {},
   "outputs": [],
   "source": [
    "x = np.c_[[1, 2, 3]]"
   ]
  },
  {
   "cell_type": "code",
   "execution_count": 13,
   "metadata": {},
   "outputs": [
    {
     "data": {
      "text/plain": [
       "14"
      ]
     },
     "execution_count": 13,
     "metadata": {},
     "output_type": "execute_result"
    }
   ],
   "source": [
    "x.T.dot(x)[0, 0]"
   ]
  },
  {
   "cell_type": "code",
   "execution_count": 60,
   "metadata": {},
   "outputs": [
    {
     "data": {
      "text/plain": [
       "(3, 1)"
      ]
     },
     "execution_count": 60,
     "metadata": {},
     "output_type": "execute_result"
    }
   ],
   "source": [
    "x.shape"
   ]
  },
  {
   "cell_type": "code",
   "execution_count": 66,
   "metadata": {},
   "outputs": [
    {
     "data": {
      "text/plain": [
       "array([[6],\n",
       "       [2],\n",
       "       [6]])"
      ]
     },
     "execution_count": 66,
     "metadata": {},
     "output_type": "execute_result"
    }
   ],
   "source": [
    "embedding_gradient(A, x)"
   ]
  },
  {
   "cell_type": "code",
   "execution_count": 72,
   "metadata": {},
   "outputs": [
    {
     "data": {
      "text/plain": [
       "array([[-35.]])"
      ]
     },
     "execution_count": 72,
     "metadata": {},
     "output_type": "execute_result"
    }
   ],
   "source": [
    "project_to_tangent_space(np.c_[[6, 2, 6]], x).T.dot(x)"
   ]
  },
  {
   "cell_type": "code",
   "execution_count": 74,
   "metadata": {},
   "outputs": [
    {
     "data": {
      "text/plain": [
       "array([[-8.]])"
      ]
     },
     "execution_count": 74,
     "metadata": {},
     "output_type": "execute_result"
    }
   ],
   "source": [
    "project_to_tangent_space(np.c_[[1, 2, 3]], x).T.dot(x)"
   ]
  },
  {
   "cell_type": "code",
   "execution_count": 55,
   "metadata": {},
   "outputs": [
    {
     "data": {
      "text/plain": [
       "array([[0.]])"
      ]
     },
     "execution_count": 55,
     "metadata": {},
     "output_type": "execute_result"
    }
   ],
   "source": [
    "(np.eye(3)- x.dot(x.T)).dot(np.c_[[6, 2, 6]]).T.dot(x)"
   ]
  },
  {
   "cell_type": "code",
   "execution_count": 32,
   "metadata": {},
   "outputs": [
    {
     "data": {
      "text/plain": [
       "array([[1, 2, 3],\n",
       "       [2, 4, 6],\n",
       "       [3, 6, 9]])"
      ]
     },
     "execution_count": 32,
     "metadata": {},
     "output_type": "execute_result"
    }
   ],
   "source": [
    "x.dot(x.T)"
   ]
  },
  {
   "cell_type": "code",
   "execution_count": null,
   "metadata": {},
   "outputs": [],
   "source": []
  }
 ],
 "metadata": {
  "kernelspec": {
   "display_name": "Python 3",
   "language": "python",
   "name": "python3"
  },
  "language_info": {
   "codemirror_mode": {
    "name": "ipython",
    "version": 3
   },
   "file_extension": ".py",
   "mimetype": "text/x-python",
   "name": "python",
   "nbconvert_exporter": "python",
   "pygments_lexer": "ipython3",
   "version": "3.7.1"
  }
 },
 "nbformat": 4,
 "nbformat_minor": 2
}
